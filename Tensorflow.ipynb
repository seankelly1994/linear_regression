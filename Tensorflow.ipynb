{
 "cells": [
  {
   "cell_type": "code",
   "execution_count": 2,
   "metadata": {},
   "outputs": [],
   "source": [
    "import tensorflow as td\n",
    "from tensorflow import keras\n",
    "import numpy as np"
   ]
  },
  {
   "cell_type": "code",
   "execution_count": 3,
   "metadata": {},
   "outputs": [
    {
     "name": "stdout",
     "output_type": "stream",
     "text": [
      "(60000, 28, 28)\n"
     ]
    }
   ],
   "source": [
    "# Load and process the data sets\n",
    "fashion_mnist = keras.datasets.fashion_mnist\n",
    "\n",
    "(X_train_full, y_train_full), (X_test, y_test) = fashion_mnist.load_data()\n",
    "\n",
    "print(X_train_full.shape)"
   ]
  },
  {
   "cell_type": "code",
   "execution_count": 4,
   "metadata": {},
   "outputs": [],
   "source": [
    "X_valid, X_train = X_train_full[:5000] / 255.0, X_train_full[5000:] / 255.0\n",
    "y_valid, y_train = y_train_full[:5000], y_train_full[5000:]"
   ]
  },
  {
   "cell_type": "code",
   "execution_count": 5,
   "metadata": {},
   "outputs": [],
   "source": [
    "class_names = [\n",
    "    \"T-shirt/top\",\n",
    "    \"Trouser\",\n",
    "    \"Pullover\",\n",
    "    \"Dress\",\n",
    "    \"Coat\",\n",
    "    \"Sandal\",\n",
    "    \"Shirt\",\n",
    "    \"Sneaker\",\n",
    "    \"Bag\",\n",
    "    \"Ankle Boot\"\n",
    "]"
   ]
  },
  {
   "cell_type": "code",
   "execution_count": 6,
   "metadata": {},
   "outputs": [
    {
     "data": {
      "text/plain": [
       "'Coat'"
      ]
     },
     "execution_count": 6,
     "metadata": {},
     "output_type": "execute_result"
    }
   ],
   "source": [
    "class_names[y_train[0]]"
   ]
  },
  {
   "cell_type": "code",
   "execution_count": 7,
   "metadata": {},
   "outputs": [],
   "source": [
    "# Build the neural network\n",
    "model = keras.models.Sequential()\n",
    "model.add(keras.layers.Flatten(input_shape=[28, 28]))\n",
    "model.add(keras.layers.Dense(300, activation=\"relu\"))\n",
    "model.add(keras.layers.Dense(100, activation=\"relu\"))\n",
    "model.add(keras.layers.Dense(10, activation=\"softmax\"))\n",
    "\n",
    "# Model can also be as a list\n",
    "mode = keras.models.Sequential([\n",
    "    keras.layers.Flatten(input_shape=[28, 28]),\n",
    "    keras.layers.Dense(300, activation=\"relu\"),\n",
    "    keras.layers.Dense(100, activation=\"relu\"),\n",
    "    keras.layers.Dense(10, activation=\"softmax\")\n",
    "])"
   ]
  },
  {
   "cell_type": "code",
   "execution_count": 8,
   "metadata": {},
   "outputs": [],
   "source": [
    "# Compile the model\n",
    "model.compile(loss=\"sparse_categorical_crossentropy\",\n",
    "             optimizer=\"sgd\",\n",
    "             metrics=[\"accuracy\"]\n",
    "             )"
   ]
  },
  {
   "cell_type": "code",
   "execution_count": 9,
   "metadata": {},
   "outputs": [
    {
     "name": "stdout",
     "output_type": "stream",
     "text": [
      "Train on 55000 samples, validate on 5000 samples\n",
      "Epoch 1/10\n",
      "55000/55000 [==============================] - 4s 79us/sample - loss: 0.7126 - accuracy: 0.7656 - val_loss: 0.5146 - val_accuracy: 0.8226\n",
      "Epoch 2/10\n",
      "55000/55000 [==============================] - 4s 70us/sample - loss: 0.4864 - accuracy: 0.8307 - val_loss: 0.4569 - val_accuracy: 0.8448\n",
      "Epoch 3/10\n",
      "55000/55000 [==============================] - 4s 70us/sample - loss: 0.4411 - accuracy: 0.8448 - val_loss: 0.4216 - val_accuracy: 0.8602\n",
      "Epoch 4/10\n",
      "55000/55000 [==============================] - 4s 70us/sample - loss: 0.4128 - accuracy: 0.8544 - val_loss: 0.3916 - val_accuracy: 0.8662\n",
      "Epoch 5/10\n",
      "55000/55000 [==============================] - 4s 68us/sample - loss: 0.3935 - accuracy: 0.8612 - val_loss: 0.4083 - val_accuracy: 0.8608\n",
      "Epoch 6/10\n",
      "55000/55000 [==============================] - 4s 70us/sample - loss: 0.3784 - accuracy: 0.8662 - val_loss: 0.3658 - val_accuracy: 0.8738\n",
      "Epoch 7/10\n",
      "55000/55000 [==============================] - 4s 71us/sample - loss: 0.3652 - accuracy: 0.8699 - val_loss: 0.3646 - val_accuracy: 0.8718\n",
      "Epoch 8/10\n",
      "55000/55000 [==============================] - 4s 71us/sample - loss: 0.3539 - accuracy: 0.8744 - val_loss: 0.3577 - val_accuracy: 0.8724\n",
      "Epoch 9/10\n",
      "55000/55000 [==============================] - 4s 70us/sample - loss: 0.3420 - accuracy: 0.8781 - val_loss: 0.3452 - val_accuracy: 0.8786\n",
      "Epoch 10/10\n",
      "55000/55000 [==============================] - 4s 72us/sample - loss: 0.3329 - accuracy: 0.8810 - val_loss: 0.3498 - val_accuracy: 0.8784\n"
     ]
    }
   ],
   "source": [
    "# Train the model\n",
    "history = model.fit(X_train, y_train, epochs=10, validation_data=(X_valid, y_valid))"
   ]
  },
  {
   "cell_type": "code",
   "execution_count": 10,
   "metadata": {},
   "outputs": [
    {
     "data": {
      "image/png": "[encoded data removed]",
      "text/plain": [
       "<Figure size 576x360 with 1 Axes>"
      ]
     },
     "metadata": {
      "needs_background": "light"
     },
     "output_type": "display_data"
    }
   ],
   "source": [
    "# Plot the training metrics\n",
    "import pandas as pd\n",
    "import matplotlib.pyplot as plt\n",
    "\n",
    "pd.DataFrame(history.history).plot(figsize=(8, 5))\n",
    "plt.grid(True)\n",
    "plt.gca().set_ylim(0, 1)\n",
    "plt.show()"
   ]
  },
  {
   "cell_type": "code",
   "execution_count": 11,
   "metadata": {},
   "outputs": [
    {
     "name": "stdout",
     "output_type": "stream",
     "text": [
      "10000/10000 [==============================] - 0s 45us/sample - loss: 71.9757 - accuracy: 0.8277\n"
     ]
    },
    {
     "data": {
      "text/plain": [
       "[71.97572640228272, 0.8277]"
      ]
     },
     "execution_count": 11,
     "metadata": {},
     "output_type": "execute_result"
    }
   ],
   "source": [
    "# Evaluate on the test set\n",
    "model.evaluate(X_test, y_test)"
   ]
  },
  {
   "cell_type": "code",
   "execution_count": 12,
   "metadata": {},
   "outputs": [
    {
     "data": {
      "text/plain": [
       "array(['Ankle Boot', 'Pullover', 'Trouser'], dtype='<U11')"
      ]
     },
     "execution_count": 12,
     "metadata": {},
     "output_type": "execute_result"
    }
   ],
   "source": [
    "# Predict\n",
    "X_new = X_test[:3]\n",
    "y_proba = model.predict(X_new)\n",
    "y_proba.round(2)\n",
    "y_pred = model.predict_classes(X_new)\n",
    "\n",
    "# Get class names\n",
    "np.array(class_names)[y_pred]"
   ]
  },
  {
   "cell_type": "code",
   "execution_count": 13,
   "metadata": {},
   "outputs": [
    {
     "name": "stdout",
     "output_type": "stream",
     "text": [
      "Train on 55000 samples, validate on 10000 samples\n",
      "Epoch 1/30\n",
      "55000/55000 [==============================] - 5s 86us/sample - loss: 0.3239 - accuracy: 0.8847 - val_loss: 61.1211 - val_accuracy: 0.8371\n",
      "Epoch 2/30\n",
      "55000/55000 [==============================] - 5s 83us/sample - loss: 0.3173 - accuracy: 0.8865 - val_loss: 66.6896 - val_accuracy: 0.8338\n",
      "Epoch 3/30\n",
      "55000/55000 [==============================] - 5s 90us/sample - loss: 0.3090 - accuracy: 0.8901 - val_loss: 85.4522 - val_accuracy: 0.8151\n",
      "Epoch 4/30\n",
      "55000/55000 [==============================] - 5s 93us/sample - loss: 0.3021 - accuracy: 0.8916 - val_loss: 71.1470 - val_accuracy: 0.8306\n",
      "Epoch 5/30\n",
      "55000/55000 [==============================] - 5s 92us/sample - loss: 0.2960 - accuracy: 0.8937 - val_loss: 71.6222 - val_accuracy: 0.8241\n",
      "Epoch 6/30\n",
      "55000/55000 [==============================] - 5s 87us/sample - loss: 0.2887 - accuracy: 0.8958 - val_loss: 73.6992 - val_accuracy: 0.8239\n",
      "Epoch 7/30\n",
      "55000/55000 [==============================] - 5s 82us/sample - loss: 0.2838 - accuracy: 0.8972 - val_loss: 79.3650 - val_accuracy: 0.8237\n",
      "Epoch 8/30\n",
      "55000/55000 [==============================] - 5s 85us/sample - loss: 0.2773 - accuracy: 0.9007 - val_loss: 75.0276 - val_accuracy: 0.8251\n",
      "Epoch 9/30\n",
      "55000/55000 [==============================] - 5s 84us/sample - loss: 0.2726 - accuracy: 0.9021 - val_loss: 61.6370 - val_accuracy: 0.8403\n",
      "Epoch 10/30\n",
      "55000/55000 [==============================] - 5s 85us/sample - loss: 0.2667 - accuracy: 0.9039 - val_loss: 52.7740 - val_accuracy: 0.8579\n",
      "Epoch 11/30\n",
      "55000/55000 [==============================] - 5s 86us/sample - loss: 0.2617 - accuracy: 0.9059 - val_loss: 66.9218 - val_accuracy: 0.8417\n",
      "Epoch 12/30\n",
      "55000/55000 [==============================] - 5s 86us/sample - loss: 0.2564 - accuracy: 0.9076 - val_loss: 65.0331 - val_accuracy: 0.8390\n",
      "Epoch 13/30\n",
      "55000/55000 [==============================] - 5s 87us/sample - loss: 0.2533 - accuracy: 0.9085 - val_loss: 53.0119 - val_accuracy: 0.8624\n",
      "Epoch 14/30\n",
      "55000/55000 [==============================] - 5s 87us/sample - loss: 0.2482 - accuracy: 0.9108 - val_loss: 65.2427 - val_accuracy: 0.8455\n",
      "Epoch 15/30\n",
      "55000/55000 [==============================] - 5s 85us/sample - loss: 0.2431 - accuracy: 0.9125 - val_loss: 67.5006 - val_accuracy: 0.8380\n",
      "Epoch 16/30\n",
      "55000/55000 [==============================] - 5s 86us/sample - loss: 0.2394 - accuracy: 0.9151 - val_loss: 56.6429 - val_accuracy: 0.8594\n",
      "Epoch 17/30\n",
      "55000/55000 [==============================] - 5s 85us/sample - loss: 0.2338 - accuracy: 0.9160 - val_loss: 64.8144 - val_accuracy: 0.8490\n",
      "Epoch 18/30\n",
      "55000/55000 [==============================] - 5s 90us/sample - loss: 0.2318 - accuracy: 0.9164 - val_loss: 69.7566 - val_accuracy: 0.8408\n",
      "Epoch 19/30\n",
      "55000/55000 [==============================] - 5s 94us/sample - loss: 0.2263 - accuracy: 0.9183 - val_loss: 59.8441 - val_accuracy: 0.8512\n",
      "Epoch 20/30\n",
      "55000/55000 [==============================] - 5s 87us/sample - loss: 0.2242 - accuracy: 0.9197 - val_loss: 65.9556 - val_accuracy: 0.8420\n",
      "Epoch 21/30\n",
      "55000/55000 [==============================] - 5s 82us/sample - loss: 0.2201 - accuracy: 0.9210 - val_loss: 60.9380 - val_accuracy: 0.8591\n",
      "Epoch 22/30\n",
      "55000/55000 [==============================] - 5s 85us/sample - loss: 0.2161 - accuracy: 0.9221 - val_loss: 79.0909 - val_accuracy: 0.8266\n",
      "Epoch 23/30\n",
      "55000/55000 [==============================] - 5s 87us/sample - loss: 0.2121 - accuracy: 0.9243 - val_loss: 57.4622 - val_accuracy: 0.8591\n",
      "Epoch 24/30\n",
      "55000/55000 [==============================] - 5s 87us/sample - loss: 0.2090 - accuracy: 0.9258 - val_loss: 64.1756 - val_accuracy: 0.8550\n",
      "Epoch 25/30\n",
      "55000/55000 [==============================] - 5s 87us/sample - loss: 0.2060 - accuracy: 0.9258 - val_loss: 62.3083 - val_accuracy: 0.8500\n",
      "Epoch 26/30\n",
      "55000/55000 [==============================] - 5s 87us/sample - loss: 0.2018 - accuracy: 0.9281 - val_loss: 73.3305 - val_accuracy: 0.8381\n",
      "Epoch 27/30\n",
      "55000/55000 [==============================] - 5s 87us/sample - loss: 0.1999 - accuracy: 0.9284 - val_loss: 64.6106 - val_accuracy: 0.8513\n",
      "Epoch 28/30\n",
      "55000/55000 [==============================] - 5s 87us/sample - loss: 0.1964 - accuracy: 0.9293 - val_loss: 54.5318 - val_accuracy: 0.8704\n",
      "Epoch 29/30\n",
      "55000/55000 [==============================] - 5s 86us/sample - loss: 0.1931 - accuracy: 0.9309 - val_loss: 58.5586 - val_accuracy: 0.8618\n",
      "Epoch 30/30\n",
      "55000/55000 [==============================] - 5s 86us/sample - loss: 0.1899 - accuracy: 0.9322 - val_loss: 61.2110 - val_accuracy: 0.8594\n"
     ]
    }
   ],
   "source": [
    "import os\n",
    "import time\n",
    "import tensorflow as tf\n",
    "from tensorflow import keras\n",
    "\n",
    "root_logdir = os.path.join(os.curdir, \"my_logs\")\n",
    "\n",
    "def get_run_logdir():\n",
    "    run_id = time.strftime(\"run_%Y_%m_%d-%H_%M_%S\")\n",
    "    \n",
    "    return os.path.join(root_logdir, run_id)\n",
    "\n",
    "run_logdir = get_run_logdir()\n",
    "\n",
    "tensorboard_cb = keras.callbacks.TensorBoard(run_logdir)\n",
    "\n",
    "history = model.fit(X_train, y_train, epochs=30, validation_data=(X_test, y_test), callbacks=[tensorboard_cb])"
   ]
  },
  {
   "cell_type": "code",
   "execution_count": 18,
   "metadata": {},
   "outputs": [
    {
     "name": "stdout",
     "output_type": "stream",
     "text": [
      "The tensorboard extension is already loaded. To reload it, use:\n",
      "  %reload_ext tensorboard\n"
     ]
    },
    {
     "data": {
      "text/plain": [
       "ERROR: Timed out waiting for TensorBoard to start. It may still be running as pid 19188."
      ]
     },
     "metadata": {},
     "output_type": "display_data"
    }
   ],
   "source": [
    "%load_ext tensorboard\n",
    "%tensorboard --logdir = serve"
   ]
  },
  {
   "cell_type": "code",
   "execution_count": null,
   "metadata": {},
   "outputs": [],
   "source": []
  }
 ],
 "metadata": {
  "kernelspec": {
   "display_name": "Python 3.7.4 64-bit",
   "language": "python",
   "name": "python37464bit295f5dde496e48d68b1771ca82bf646f"
  },
  "language_info": {
   "codemirror_mode": {
    "name": "ipython",
    "version": 3
   },
   "file_extension": ".py",
   "mimetype": "text/x-python",
   "name": "python",
   "nbconvert_exporter": "python",
   "pygments_lexer": "ipython3",
   "version": "3.7.4"
  }
 },
 "nbformat": 4,
 "nbformat_minor": 4
}
