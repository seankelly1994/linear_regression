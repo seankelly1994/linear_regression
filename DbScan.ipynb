{
 "cells": [
  {
   "cell_type": "code",
   "execution_count": 9,
   "metadata": {},
   "outputs": [],
   "source": [
    "from sklearn.cluster import DBSCAN\n",
    "from sklearn.datasets import make_moons\n",
    "import numpy as np"
   ]
  },
  {
   "cell_type": "code",
   "execution_count": 10,
   "metadata": {},
   "outputs": [
    {
     "data": {
      "text/plain": [
       "DBSCAN(algorithm='auto', eps=0.05, leaf_size=30, metric='euclidean',\n",
       "       metric_params=None, min_samples=5, n_jobs=None, p=None)"
      ]
     },
     "execution_count": 10,
     "metadata": {},
     "output_type": "execute_result"
    }
   ],
   "source": [
    "X, y = make_moons(n_samples=1000, noise=0.05)\n",
    "dbscan = DBSCAN(eps=0.05, min_samples=5)\n",
    "dbscan.fit(X)"
   ]
  },
  {
   "cell_type": "code",
   "execution_count": 11,
   "metadata": {},
   "outputs": [
    {
     "name": "stdout",
     "output_type": "stream",
     "text": [
      "[ 0  5  0  1  2  2  3 10  4  0  2  3  5  6  3  1  7  5  8  2  2  4  2  2\n",
      "  6  9  0  2  2  3  0 10  6  0  2  2  3  4  5  2  2  5  2  6  7 -1  1  0\n",
      " 10  2  8  0  2  0  5  0  4  1  2  1  9  3  6 -1  2  3  8  5  3 10  0 -1\n",
      "  0  0  2  5  5  2  3  0  0  2  2  5  0  5 -1  3  5  3  2  1  4  5  0  2\n",
      "  9  2  9  3  2  4  6  2  7  1  1  5 10  2  2  3  4  3  9  3  2  0 10  3\n",
      "  0  6  8  9  5  4  8  0  2  0  2  9 10 -1  0 -1  5 10  2  3  2  2  2 -1\n",
      "  5  2 -1  3  7  5  3 -1 10 11  2  5  5  2  2 -1  2 10  5  0  8  5  3  2\n",
      "  6  5  2  2  4  6  2  5  5  5  2  6  2  3  2 -1  9  6  3  6  2  1 -1  8\n",
      " 10  8  3  4  4  0 11  4  7  5  5  0  8 -1  2  0  2  5  2  2  7  2  5  6\n",
      "  9  2 10  2 -1  0  8  0 -1  8  1  0  5  5  3  2  8 12  1  8  2  2  0  3\n",
      "  2  7 11 -1 12  5  5 -1  2  2  5  0  8  9  8 -1  2  9  0  3  0  1  2  5\n",
      "  9  6  6  2  9  5  5  9  9  5  2 10  2  0  1  2  4  0  2  9  3  1  2  0\n",
      "  2  1 -1  3  2  6  4 -1  6  2  8  4  2  4  1  3  2  5  2  1  4  1  1  8\n",
      " 10  9  4  2  7  2  5  3  2  0  2  8  4  8  1  2  7  0  3  2  2  4  0 -1\n",
      "  2 10  9 -1 -1  5  2  9  5  5  3  2  9  7  2  4  2  2  5  4  2  0  0 -1\n",
      "  1  2  4 -1  8  0  5  8 -1  2  3  2  2  1  2  6  5  5  5  3  0  2  4  2\n",
      " 10  2  6  5  2 -1  3  6 13  2  6  8 13  9  9  4  8  0  0  5  2  1 -1  2\n",
      "  5  2  6  0 -1 11  2  5  4  0  2  0  0  9  6  1  4  1  4  5  0  2  7 10\n",
      "  5  2  2  5  2  5  0  9  6  0  5  3 10  0  2  0  9  5  9  2  5  2  5  0\n",
      "  0  9  2  0  2  3 13  2  3  2 11  0  5  2 -1  8  2  9  0  2  2  5  4 10\n",
      "  5  2  6  2  0 -1 13  2  2  6  2  2  3  5  5  4  2  4  5 10  7  5  5  6\n",
      " -1  3  8  2  8  4  6  9  2  2  3 -1  0  8 -1  2 13  9  3  2  6  2  5  3\n",
      "  5  5  4  2  2  2  5  2  5  8  2  5  9  2  1  5  7  6  8  2  2  2  6  9\n",
      "  5  3  5  6  2  6 12  2  5  2  5  6  5  6  2  0  3  2  4  2  0  9  2  2\n",
      "  1 -1  6 -1  5  1  2  2  2 -1  0  0 10  1  2  2  2  4 10 -1  5 10  1  4\n",
      "  1  3  8  3  2  0  3  6  2  5  2  3 11  2  2  2  5  2  9  9  9 -1  2  5\n",
      "  4  8 13  3  8  1  3  0 -1  9  5  1  9 10  2  3  2  5  2  2  4  5  9  4\n",
      "  5  5  2  3  2  8  2 10  5  4  8  2  0  8  2  3  2  4  6  3  3  3  2  7\n",
      " 13  9 10  5  2  7 -1  7  2  2  0  2  3  4  9  6  2  1  7  0  4  4  8 11\n",
      " -1  9  2  2  2  3  2  2  0  1  6  0 -1  2  2 -1 -1  0  2  4  9  1  3  2\n",
      "  0  1 -1  5  2  8  2  8  0  2  8  1  5  4  5  9  1  2  2  0 10 -1  3  1\n",
      " 11  7  2  3  9  9  2  3  0  3 11  0  5  7  0  5  5 -1  5  2  5  2  6 -1\n",
      "  5  0  0  2  5 10  2  9  5  0  5 10  2  5  2  9  0  5 13  2  2  2  1  5\n",
      "  1  3 12  8  0  2  0  2  0  5  0  1  4  2  2  3  2  3  8  3  5  8  5  0\n",
      " 12  4  3  5  2  2 10  2  8  2  9  5  0 10  9  2  2  2  5  0  2  2  2  7\n",
      " 13 13 -1 -1  3  4  5  0  6  7  4  9  2 -1  0  5  1  6 -1  3  8  3  6  0\n",
      "  4  5  0  2 -1  0 12  3  6  2 10  7 -1  7  1  1  5  0  2  6  6 11  2  0\n",
      "  0  2  0  6  2  3  2  2 -1  0  6  9  4  3  2 11  6  5  6  0  5  3  8  5\n",
      "  5  4  0  1  4 12  2  1  2 -1  2  4 -1  2  0 10  5  1  2 -1  9  4  2  0\n",
      "  2  9  3  2  2 -1  7  0  3 12  2 -1  2  8  0  5  0 -1  2  2  0  7  5  2\n",
      "  1  0  9  5 10  9 -1  1  5  9  9  2 -1 -1  4  2 10  7 10  5  2  5  5  6\n",
      " 10  2  5  0  2 -1  2  3  1 12  5  2 12  2 -1  6]\n"
     ]
    }
   ],
   "source": [
    "# Display some meta data\n",
    "print(dbscan.labels_)"
   ]
  },
  {
   "cell_type": "code",
   "execution_count": 12,
   "metadata": {},
   "outputs": [
    {
     "data": {
      "text/plain": [
       "array([[0.  , 0.2 , 0.  , 0.  , 0.  , 0.  , 0.12, 0.  , 0.  , 0.08, 0.58,\n",
       "        0.  , 0.02, 0.  ],\n",
       "       [0.  , 0.  , 0.  , 0.  , 0.  , 0.  , 0.86, 0.  , 0.  , 0.14, 0.  ,\n",
       "        0.  , 0.  , 0.  ],\n",
       "       [0.  , 0.  , 0.34, 0.  , 0.66, 0.  , 0.  , 0.  , 0.  , 0.  , 0.  ,\n",
       "        0.  , 0.  , 0.  ],\n",
       "       [0.  , 0.  , 1.  , 0.  , 0.  , 0.  , 0.  , 0.  , 0.  , 0.  , 0.  ,\n",
       "        0.  , 0.  , 0.  ]])"
      ]
     },
     "execution_count": 12,
     "metadata": {},
     "output_type": "execute_result"
    }
   ],
   "source": [
    "from sklearn.neighbors import KNeighborsClassifier\n",
    "\n",
    "knn = KNeighborsClassifier(n_neighbors=50)\n",
    "knn.fit(dbscan.components_, dbscan.labels_[dbscan.core_sample_indices_])\n",
    "\n",
    "X_new = np.array([[-0.5, 0], [0, 0.5], [1, -0.1], [2, 1]])\n",
    "\n",
    "knn.predict_proba(X_new)"
   ]
  },
  {
   "cell_type": "code",
   "execution_count": null,
   "metadata": {},
   "outputs": [],
   "source": []
  }
 ],
 "metadata": {
  "kernelspec": {
   "display_name": "Python 3",
   "language": "python",
   "name": "python3"
  },
  "language_info": {
   "codemirror_mode": {
    "name": "ipython",
    "version": 3
   },
   "file_extension": ".py",
   "mimetype": "text/x-python",
   "name": "python",
   "nbconvert_exporter": "python",
   "pygments_lexer": "ipython3",
   "version": "3.7.4"
  }
 },
 "nbformat": 4,
 "nbformat_minor": 4
}
