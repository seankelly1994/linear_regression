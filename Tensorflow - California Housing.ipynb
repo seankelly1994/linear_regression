{
 "cells": [
  {
   "cell_type": "code",
   "execution_count": 3,
   "metadata": {},
   "outputs": [],
   "source": [
    "from sklearn.datasets import fetch_california_housing\n",
    "from sklearn.model_selection import train_test_split\n",
    "from sklearn.preprocessing import StandardScaler\n",
    "import tensorflow as td\n",
    "from tensorflow import keras\n",
    "import numpy as np"
   ]
  },
  {
   "cell_type": "code",
   "execution_count": 2,
   "metadata": {},
   "outputs": [
    {
     "name": "stderr",
     "output_type": "stream",
     "text": [
      "Downloading Cal. housing from https://ndownloader.figshare.com/files/5976036 to C:\\Users\\Sekel\\scikit_learn_data\n"
     ]
    }
   ],
   "source": [
    "# Create the object dataset\n",
    "housing = fetch_california_housing()\n",
    "\n",
    "X_train_full, X_test, y_train_full, y_test = train_test_split(\n",
    "housing.data, housing.target)\n",
    "\n",
    "X_train, X_valid, y_train, y_valid = train_test_split(\n",
    "X_train_full, y_train_full)\n",
    "\n",
    "scaler = StandardScaler()\n",
    "X_train = scaler.fit_transform(X_train)\n",
    "X_valid = scaler.transform(X_valid)\n",
    "X_test = scaler.transform(X_test)"
   ]
  },
  {
   "cell_type": "code",
   "execution_count": 4,
   "metadata": {},
   "outputs": [
    {
     "name": "stdout",
     "output_type": "stream",
     "text": [
      "Train on 11610 samples, validate on 3870 samples\n",
      "Epoch 1/20\n",
      "11610/11610 [==============================] - 1s 97us/sample - loss: 0.7090 - val_loss: 2.2793\n",
      "Epoch 2/20\n",
      "11610/11610 [==============================] - 1s 66us/sample - loss: 0.4829 - val_loss: 9.0267\n",
      "Epoch 3/20\n",
      "11610/11610 [==============================] - 1s 67us/sample - loss: 0.9019 - val_loss: 3.4266\n",
      "Epoch 4/20\n",
      "11610/11610 [==============================] - 1s 65us/sample - loss: 0.4955 - val_loss: 7.3894\n",
      "Epoch 5/20\n",
      "11610/11610 [==============================] - 1s 63us/sample - loss: 0.6525 - val_loss: 0.8885\n",
      "Epoch 6/20\n",
      "11610/11610 [==============================] - 1s 68us/sample - loss: 0.4009 - val_loss: 0.8530\n",
      "Epoch 7/20\n",
      "11610/11610 [==============================] - 1s 66us/sample - loss: 0.3980 - val_loss: 0.3749\n",
      "Epoch 8/20\n",
      "11610/11610 [==============================] - 1s 66us/sample - loss: 0.3711 - val_loss: 0.3660\n",
      "Epoch 9/20\n",
      "11610/11610 [==============================] - 1s 63us/sample - loss: 0.3624 - val_loss: 0.3649\n",
      "Epoch 10/20\n",
      "11610/11610 [==============================] - 1s 65us/sample - loss: 0.3610 - val_loss: 0.4210\n",
      "Epoch 11/20\n",
      "11610/11610 [==============================] - 1s 62us/sample - loss: 0.3676 - val_loss: 0.3693\n",
      "Epoch 12/20\n",
      "11610/11610 [==============================] - 1s 65us/sample - loss: 0.3593 - val_loss: 0.3639\n",
      "Epoch 13/20\n",
      "11610/11610 [==============================] - 1s 65us/sample - loss: 0.3603 - val_loss: 0.3896\n",
      "Epoch 14/20\n",
      "11610/11610 [==============================] - 1s 64us/sample - loss: 0.3634 - val_loss: 0.3608\n",
      "Epoch 15/20\n",
      "11610/11610 [==============================] - 1s 64us/sample - loss: 0.3559 - val_loss: 0.3639\n",
      "Epoch 16/20\n",
      "11610/11610 [==============================] - 1s 64us/sample - loss: 0.3553 - val_loss: 0.3630\n",
      "Epoch 17/20\n",
      "11610/11610 [==============================] - 1s 65us/sample - loss: 0.3529 - val_loss: 0.3582\n",
      "Epoch 18/20\n",
      "11610/11610 [==============================] - 1s 64us/sample - loss: 0.3531 - val_loss: 0.3646\n",
      "Epoch 19/20\n",
      "11610/11610 [==============================] - 1s 65us/sample - loss: 0.3522 - val_loss: 0.3570\n",
      "Epoch 20/20\n",
      "11610/11610 [==============================] - 1s 67us/sample - loss: 0.3497 - val_loss: 0.3572\n",
      "5160/5160 [==============================] - 0s 33us/sample - loss: 0.3466\n",
      "[[0.87021327]\n",
      " [3.3416    ]\n",
      " [1.4636803 ]]\n"
     ]
    }
   ],
   "source": [
    "# Build the model\n",
    "model = keras.models.Sequential([\n",
    "    keras.layers.Dense(30, activation=\"relu\", input_shape=X_train.shape[1:]),\n",
    "    keras.layers.Dense(1)\n",
    "])\n",
    "\n",
    "model.compile(loss=\"mean_squared_error\", optimizer=\"sgd\")\n",
    "history = model.fit(X_train, y_train, epochs=20, validation_data=(X_valid, y_valid))\n",
    "\n",
    "mse_test = model.evaluate(X_test, y_test)\n",
    "\n",
    "X_new = X_test[:3]\n",
    "y_pred = model.predict(X_new)\n",
    "print(y_pred)"
   ]
  },
  {
   "cell_type": "code",
   "execution_count": null,
   "metadata": {},
   "outputs": [],
   "source": []
  }
 ],
 "metadata": {
  "kernelspec": {
   "display_name": "Python 3.7.4 64-bit",
   "language": "python",
   "name": "python37464bit295f5dde496e48d68b1771ca82bf646f"
  },
  "language_info": {
   "codemirror_mode": {
    "name": "ipython",
    "version": 3
   },
   "file_extension": ".py",
   "mimetype": "text/x-python",
   "name": "python",
   "nbconvert_exporter": "python",
   "pygments_lexer": "ipython3",
   "version": "3.7.4"
  }
 },
 "nbformat": 4,
 "nbformat_minor": 4
}
